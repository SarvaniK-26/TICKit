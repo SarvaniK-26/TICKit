{
 "cells": [
  {
   "cell_type": "code",
   "execution_count": 62,
   "metadata": {},
   "outputs": [],
   "source": [
    "import os\n",
    "from dotenv import load_dotenv\n",
    "from openai import OpenAI"
   ]
  },
  {
   "cell_type": "code",
   "execution_count": 20,
   "metadata": {},
   "outputs": [],
   "source": [
    "import asyncio\n",
    "from playwright.async_api import async_playwright\n",
    "\n",
    "async def main():\n",
    "    async with async_playwright() as p:\n",
    "        browser = await p.chromium.launch(headless=False)\n",
    "        page = await browser.new_page()\n",
    "\n",
    "        # page opens \n",
    "        await page.goto(\"https://www.ticketmaster.com/\")\n",
    "        print(await page.title())\n",
    "\n",
    "        # page navigates to \n",
    "        \n",
    "    \n",
    "        await page.wait_for_timeout(3000)\n",
    "        await browser.close()"
   ]
  },
  {
   "cell_type": "code",
   "execution_count": 21,
   "metadata": {},
   "outputs": [
    {
     "name": "stdout",
     "output_type": "stream",
     "text": [
      "Ticketmaster: Buy Verified Tickets for Concerts, Sports, Theater and Events\n"
     ]
    }
   ],
   "source": [
    "await main()"
   ]
  },
  {
   "cell_type": "code",
   "execution_count": 56,
   "metadata": {},
   "outputs": [
    {
     "name": "stdout",
     "output_type": "stream",
     "text": [
      "Leisure the band $140 san diego November 10th 2025\n"
     ]
    }
   ],
   "source": [
    "query = input(\"Enter your concert ticket requirements: \")\n",
    "print(query)"
   ]
  },
  {
   "cell_type": "code",
   "execution_count": 57,
   "metadata": {},
   "outputs": [],
   "source": [
    "# organize format for structuring the query \n",
    "function_schema = {\n",
    "    \"name\": \"get_ticket_info\",\n",
    "    \"description\": \"Extract concert ticket request from natural language to structured data.\",\n",
    "    \"parameters\": {\n",
    "        \"type\": \"object\",\n",
    "        \"properties\": {\n",
    "            \"artist\": { \"type\": \"string\", \"description\": \"Musician that is performing\"},\n",
    "            \"location\": { \"type\": \"string\", \"description\": \"City or venue\"},\n",
    "            \"price\": { \"type\": \"number\", \"description\": \"Maximum price per ticket\"},\n",
    "            \"tickets\": { \"type\": \"integer\", \"description\": \"Number of tickets\"}, \n",
    "            \"date\": { \"type\": \"string\", \"description\": \"Date of event\"}\n",
    "        },\n",
    "        \"required\": [\"artist\", \"location\",\"tickets\", \"price\"],\n",
    "        \"additionalProperties\": False\n",
    "    }\n",
    "}"
   ]
  },
  {
   "cell_type": "code",
   "execution_count": 70,
   "metadata": {},
   "outputs": [
    {
     "name": "stdout",
     "output_type": "stream",
     "text": [
      "{\"artist\":\"Leisure\",\"location\":\"San Diego\",\"price\":140,\"tickets\":1,\"date\":\"2025-11-10\"}\n"
     ]
    }
   ],
   "source": [
    "from openai import OpenAI\n",
    "\n",
    "load_dotenv()\n",
    "client = OpenAI(api_key=os.getenv(\"OPENAI_API_KEY\"))\n",
    "\n",
    "response = client.chat.completions.create(\n",
    "    model=\"gpt-4o-mini\",  \n",
    "    messages=[\n",
    "        {\"role\": \"user\", \"content\": query}\n",
    "    ],\n",
    "    functions=[function_schema],\n",
    "    function_call={\"name\": \"get_ticket_info\"}\n",
    ")\n",
    "\n",
    "parsed = response.choices[0].message.function_call.arguments\n",
    "print(parsed)"
   ]
  }
 ],
 "metadata": {
  "kernelspec": {
   "display_name": "base",
   "language": "python",
   "name": "python3"
  },
  "language_info": {
   "codemirror_mode": {
    "name": "ipython",
    "version": 3
   },
   "file_extension": ".py",
   "mimetype": "text/x-python",
   "name": "python",
   "nbconvert_exporter": "python",
   "pygments_lexer": "ipython3",
   "version": "3.12.4"
  }
 },
 "nbformat": 4,
 "nbformat_minor": 2
}
